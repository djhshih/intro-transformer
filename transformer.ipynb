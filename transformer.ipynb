{
 "cells": [
  {
   "cell_type": "code",
   "execution_count": 110,
   "id": "8fddec35-83d0-4322-8048-3052c0b523d2",
   "metadata": {},
   "outputs": [],
   "source": [
    "import torch\n",
    "import torch.nn as nn\n",
    "from torch.nn import functional as fn"
   ]
  },
  {
   "cell_type": "code",
   "execution_count": 61,
   "id": "96476324-cbfc-4923-9649-2bb812ede07d",
   "metadata": {},
   "outputs": [],
   "source": [
    "class Config():\n",
    "    def __init__(self, vocab_size, context_size, batch_size):\n",
    "        self.n_layer = 1\n",
    "        self.n_head = 4\n",
    "        self.embed_size = 8\n",
    "        self.vocab_size = vocab_size\n",
    "        self.context_size = context_size\n",
    "        self.batch_size = batch_size\n"
   ]
  },
  {
   "cell_type": "code",
   "execution_count": null,
   "id": "7e3913bc-c6b1-4e5c-8d0f-51284a276dab",
   "metadata": {},
   "outputs": [],
   "source": [
    "class GPT(nn.Module):\n",
    "    \n",
    "    def __init__(self, config):\n",
    "        super().__init__()\n",
    "        self.config = config\n",
    "        "
   ]
  },
  {
   "cell_type": "code",
   "execution_count": 229,
   "id": "5e79119a-826c-461a-b3e4-76243559d20d",
   "metadata": {},
   "outputs": [
    {
     "data": {
      "text/plain": [
       "<module 'utils.preprocess' from '/home/davids/projects/intro-transformer/utils/preprocess.py'>"
      ]
     },
     "execution_count": 229,
     "metadata": {},
     "output_type": "execute_result"
    }
   ],
   "source": [
    "import utils.preprocess as pp\n",
    "reload(pp)"
   ]
  },
  {
   "cell_type": "code",
   "execution_count": 198,
   "id": "181deb69-f140-4d09-92f8-796583adb60d",
   "metadata": {},
   "outputs": [],
   "source": [
    "sites = pp.load_data('data/restriction-sites.txt')"
   ]
  },
  {
   "cell_type": "code",
   "execution_count": 199,
   "id": "d28c037c-e60d-4ee3-9029-42e9e05e32d1",
   "metadata": {},
   "outputs": [],
   "source": [
    "vocab = pp.get_vocab(sites)"
   ]
  },
  {
   "cell_type": "code",
   "execution_count": 200,
   "id": "bc309ff8-e957-4a04-b038-68aa48e2d75c",
   "metadata": {},
   "outputs": [],
   "source": [
    "config = Config(\n",
    "    vocab_size = len(vocab),\n",
    "    context_size = max_len,\n",
    "    batch_size = 4\n",
    ")"
   ]
  },
  {
   "cell_type": "code",
   "execution_count": 201,
   "id": "d1494ed0-4e5c-4a4b-bf52-6b081bacd0b0",
   "metadata": {},
   "outputs": [],
   "source": [
    "lns = [len(site) for site in sites]"
   ]
  },
  {
   "cell_type": "code",
   "execution_count": 202,
   "id": "46b8f2d1-ee3d-4f85-9734-f88595af4c1e",
   "metadata": {},
   "outputs": [],
   "source": [
    "n_samples = len(site)"
   ]
  },
  {
   "cell_type": "code",
   "execution_count": 203,
   "id": "7336d702-8712-4aa0-9532-e5cacf86b2fd",
   "metadata": {},
   "outputs": [],
   "source": [
    "init_code = vocab.index('^')\n",
    "term_code = vocab.index('$')"
   ]
  },
  {
   "cell_type": "code",
   "execution_count": 204,
   "id": "3c1b7577-c8a7-4dde-95d4-07278277f1ce",
   "metadata": {},
   "outputs": [
    {
     "name": "stdout",
     "output_type": "stream",
     "text": [
      "^AA/CGTT$\n",
      "tensor([30, 15, 15,  4, 17, 19, 26, 26,  0])\n",
      "^AA/CGTT$\n"
     ]
    }
   ],
   "source": [
    "print(sites[0])\n",
    "print(encode(sites[0], vocab))\n",
    "print(decode([30, 15, 15, 4, 17, 19, 26, 26, 0], vocab))"
   ]
  },
  {
   "cell_type": "code",
   "execution_count": 205,
   "id": "81502eca-ae61-4f5f-9b7f-a2fb1b57a7a4",
   "metadata": {},
   "outputs": [],
   "source": [
    "sites_encoded = [pp.encode(site, vocab) for site in sites]"
   ]
  },
  {
   "cell_type": "code",
   "execution_count": 206,
   "id": "28c163c0-8b52-413c-93d3-d34a13b06710",
   "metadata": {},
   "outputs": [
    {
     "data": {
      "text/plain": [
       "tensor([30, 15, 15,  4, 17, 19, 26, 26,  0])"
      ]
     },
     "execution_count": 206,
     "metadata": {},
     "output_type": "execute_result"
    }
   ],
   "source": [
    "sites_encoded[0]"
   ]
  },
  {
   "cell_type": "code",
   "execution_count": 235,
   "id": "402e1cde-c762-41dc-ada6-3d0adcfe2eed",
   "metadata": {},
   "outputs": [
    {
     "data": {
      "text/plain": [
       "[(tensor([30, 30, 30, 30, 30, 30, 30, 30, 30, 30, 30, 30, 30, 30, 30, 30]),\n",
       "  tensor(15)),\n",
       " (tensor([30, 30, 30, 30, 30, 30, 30, 30, 30, 30, 30, 30, 30, 30, 30, 15]),\n",
       "  tensor(15)),\n",
       " (tensor([30, 30, 30, 30, 30, 30, 30, 30, 30, 30, 30, 30, 30, 30, 15, 15]),\n",
       "  tensor(4)),\n",
       " (tensor([30, 30, 30, 30, 30, 30, 30, 30, 30, 30, 30, 30, 30, 15, 15,  4]),\n",
       "  tensor(17)),\n",
       " (tensor([30, 30, 30, 30, 30, 30, 30, 30, 30, 30, 30, 30, 15, 15,  4, 17]),\n",
       "  tensor(19)),\n",
       " (tensor([30, 30, 30, 30, 30, 30, 30, 30, 30, 30, 30, 15, 15,  4, 17, 19]),\n",
       "  tensor(26)),\n",
       " (tensor([30, 30, 30, 30, 30, 30, 30, 30, 30, 30, 15, 15,  4, 17, 19, 26]),\n",
       "  tensor(26)),\n",
       " (tensor([30, 30, 30, 30, 30, 30, 30, 30, 30, 15, 15,  4, 17, 19, 26, 26]),\n",
       "  tensor(0))]"
      ]
     },
     "execution_count": 235,
     "metadata": {},
     "output_type": "execute_result"
    }
   ],
   "source": []
  },
  {
   "cell_type": "code",
   "execution_count": 233,
   "id": "97d99ce1-8798-499e-961a-ff23e3b86721",
   "metadata": {},
   "outputs": [],
   "source": []
  },
  {
   "cell_type": "code",
   "execution_count": 234,
   "id": "0a4e698d-da02-462f-9549-afb312109588",
   "metadata": {},
   "outputs": [
    {
     "data": {
      "text/plain": [
       "(tensor([[30, 30, 30, 30, 30, 30, 30, 30, 30, 30, 30, 30, 30, 30, 30, 30],\n",
       "         [30, 30, 30, 30, 30, 30, 30, 30, 30, 30, 30, 30, 30, 30, 30, 15],\n",
       "         [30, 30, 30, 30, 30, 30, 30, 30, 30, 30, 30, 30, 30, 30, 15, 15],\n",
       "         [30, 30, 30, 30, 30, 30, 30, 30, 30, 30, 30, 30, 30, 15, 15, 26],\n",
       "         [30, 30, 30, 30, 30, 30, 30, 30, 30, 30, 30, 30, 15, 15, 26,  4],\n",
       "         [30, 30, 30, 30, 30, 30, 30, 30, 30, 30, 30, 15, 15, 26,  4, 15],\n",
       "         [30, 30, 30, 30, 30, 30, 30, 30, 30, 30, 15, 15, 26,  4, 15, 26],\n",
       "         [30, 30, 30, 30, 30, 30, 30, 30, 30, 15, 15, 26,  4, 15, 26, 26],\n",
       "         [30, 30, 30, 30, 30, 30, 30, 30, 30, 30, 30, 30, 30, 30, 30, 30],\n",
       "         [30, 30, 30, 30, 30, 30, 30, 30, 30, 30, 30, 30, 30, 30, 30, 15],\n",
       "         [30, 30, 30, 30, 30, 30, 30, 30, 30, 30, 30, 30, 30, 30, 15, 15],\n",
       "         [30, 30, 30, 30, 30, 30, 30, 30, 30, 30, 30, 30, 30, 15, 15, 26],\n",
       "         [30, 30, 30, 30, 30, 30, 30, 30, 30, 30, 30, 30, 15, 15, 26,  4],\n",
       "         [30, 30, 30, 30, 30, 30, 30, 30, 30, 30, 30, 15, 15, 26,  4, 15],\n",
       "         [30, 30, 30, 30, 30, 30, 30, 30, 30, 30, 15, 15, 26,  4, 15, 26],\n",
       "         [30, 30, 30, 30, 30, 30, 30, 30, 30, 15, 15, 26,  4, 15, 26, 26],\n",
       "         [30, 30, 30, 30, 30, 30, 30, 30, 30, 30, 30, 30, 30, 30, 30, 30],\n",
       "         [30, 30, 30, 30, 30, 30, 30, 30, 30, 30, 30, 30, 30, 30, 30, 15],\n",
       "         [30, 30, 30, 30, 30, 30, 30, 30, 30, 30, 30, 30, 30, 30, 15, 15],\n",
       "         [30, 30, 30, 30, 30, 30, 30, 30, 30, 30, 30, 30, 30, 15, 15, 26],\n",
       "         [30, 30, 30, 30, 30, 30, 30, 30, 30, 30, 30, 30, 15, 15, 26,  4],\n",
       "         [30, 30, 30, 30, 30, 30, 30, 30, 30, 30, 30, 15, 15, 26,  4, 15],\n",
       "         [30, 30, 30, 30, 30, 30, 30, 30, 30, 30, 15, 15, 26,  4, 15, 26],\n",
       "         [30, 30, 30, 30, 30, 30, 30, 30, 30, 15, 15, 26,  4, 15, 26, 26],\n",
       "         [30, 30, 30, 30, 30, 30, 30, 30, 30, 30, 30, 30, 30, 30, 30, 30],\n",
       "         [30, 30, 30, 30, 30, 30, 30, 30, 30, 30, 30, 30, 30, 30, 30, 15],\n",
       "         [30, 30, 30, 30, 30, 30, 30, 30, 30, 30, 30, 30, 30, 30, 15,  4],\n",
       "         [30, 30, 30, 30, 30, 30, 30, 30, 30, 30, 30, 30, 30, 15,  4, 17],\n",
       "         [30, 30, 30, 30, 30, 30, 30, 30, 30, 30, 30, 30, 15,  4, 17, 15],\n",
       "         [30, 30, 30, 30, 30, 30, 30, 30, 30, 30, 30, 15,  4, 17, 15, 26],\n",
       "         [30, 30, 30, 30, 30, 30, 30, 30, 30, 30, 15,  4, 17, 15, 26, 19],\n",
       "         [30, 30, 30, 30, 30, 30, 30, 30, 30, 15,  4, 17, 15, 26, 19, 26]]),\n",
       " tensor([15, 15, 26,  4, 15, 26, 26,  0, 15, 15, 26,  4, 15, 26, 26,  0, 15, 15,\n",
       "         26,  4, 15, 26, 26,  0, 15,  4, 17, 15, 26, 19, 26,  0]))"
      ]
     },
     "execution_count": 234,
     "metadata": {},
     "output_type": "execute_result"
    }
   ],
   "source": [
    "data = pp.get_batch(sites_encoded, config.batch_size, config.context_size, init_code)"
   ]
  },
  {
   "cell_type": "code",
   "execution_count": null,
   "id": "26983bbc-09d9-414c-991e-7425ed04abec",
   "metadata": {},
   "outputs": [],
   "source": []
  }
 ],
 "metadata": {
  "kernelspec": {
   "display_name": "Python 3 (ipykernel)",
   "language": "python",
   "name": "python3"
  },
  "language_info": {
   "codemirror_mode": {
    "name": "ipython",
    "version": 3
   },
   "file_extension": ".py",
   "mimetype": "text/x-python",
   "name": "python",
   "nbconvert_exporter": "python",
   "pygments_lexer": "ipython3",
   "version": "3.9.19"
  }
 },
 "nbformat": 4,
 "nbformat_minor": 5
}
