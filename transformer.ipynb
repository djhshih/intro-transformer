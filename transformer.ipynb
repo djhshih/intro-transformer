{
 "cells": [
  {
   "cell_type": "code",
   "execution_count": 1,
   "id": "8fddec35-83d0-4322-8048-3052c0b523d2",
   "metadata": {},
   "outputs": [
    {
     "data": {
      "text/plain": [
       "<torch._C.Generator at 0x7415bb52c2d0>"
      ]
     },
     "execution_count": 1,
     "metadata": {},
     "output_type": "execute_result"
    }
   ],
   "source": [
    "import torch\n",
    "import torch.nn as nn\n",
    "from torch.nn import functional as fn\n",
    "\n",
    "torch.manual_seed(1337)"
   ]
  },
  {
   "cell_type": "code",
   "execution_count": 6,
   "id": "f3621cc0-f0b9-45a3-bf66-c7e27045056c",
   "metadata": {},
   "outputs": [],
   "source": [
    "from importlib import reload"
   ]
  },
  {
   "cell_type": "code",
   "execution_count": 2,
   "id": "96476324-cbfc-4923-9649-2bb812ede07d",
   "metadata": {},
   "outputs": [],
   "source": [
    "class Config():\n",
    "    def __init__(self, context_size, batch_size):\n",
    "        self.n_layer = 1\n",
    "        self.n_head = 4\n",
    "        self.embed_size = 8\n",
    "        self.context_size = context_size\n",
    "        self.batch_size = batch_size\n"
   ]
  },
  {
   "cell_type": "code",
   "execution_count": 3,
   "id": "7e3913bc-c6b1-4e5c-8d0f-51284a276dab",
   "metadata": {},
   "outputs": [],
   "source": [
    "class GPT(nn.Module):\n",
    "    \n",
    "    def __init__(self, config):\n",
    "        super().__init__()\n",
    "        self.config = config\n",
    "        self.embedding = nn.Embedding(config.vocab_size, config.embed_size)\n",
    "\n",
    "    def forward(self, X, y):\n",
    "        pass\n",
    "        # X is (B, T), y is (B, 1)"
   ]
  },
  {
   "cell_type": "code",
   "execution_count": 4,
   "id": "bc309ff8-e957-4a04-b038-68aa48e2d75c",
   "metadata": {},
   "outputs": [],
   "source": [
    "config = Config(\n",
    "    context_size = 16,\n",
    "    batch_size = 8\n",
    ")"
   ]
  },
  {
   "cell_type": "code",
   "execution_count": 12,
   "id": "5e79119a-826c-461a-b3e4-76243559d20d",
   "metadata": {},
   "outputs": [
    {
     "data": {
      "text/plain": [
       "<module 'utils.preprocess' from '/home/davids/projects/intro-transformer/utils/preprocess.py'>"
      ]
     },
     "execution_count": 12,
     "metadata": {},
     "output_type": "execute_result"
    }
   ],
   "source": [
    "import utils.preprocess as pp\n",
    "reload(pp)"
   ]
  },
  {
   "cell_type": "code",
   "execution_count": 13,
   "id": "181deb69-f140-4d09-92f8-796583adb60d",
   "metadata": {},
   "outputs": [],
   "source": [
    "dataset = pp.ShortSequenceDataset('data/restriction-sites.txt',\n",
    "    context_size=config.context_size, batch_size=config.batch_size)"
   ]
  },
  {
   "cell_type": "code",
   "execution_count": 14,
   "id": "d28c037c-e60d-4ee3-9029-42e9e05e32d1",
   "metadata": {},
   "outputs": [
    {
     "data": {
      "text/plain": [
       "(tensor([[30, 30, 30, 30, 30, 30, 30, 30, 15, 15,  4, 17, 19, 26, 26],\n",
       "         [30, 30, 30, 30, 30, 30, 30, 30, 15,  4, 15, 19, 17, 26, 26],\n",
       "         [30, 30, 30, 30, 30, 30, 30, 30, 15, 15, 26,  4, 15, 26, 26],\n",
       "         [30, 30, 30, 30, 30, 30, 30, 30, 30, 30,  4, 15, 15, 26, 26],\n",
       "         [30, 30, 30, 30, 30, 30, 30, 30, 15, 15, 26,  4, 15, 26, 26],\n",
       "         [30, 30, 30, 30, 30, 30, 30, 30, 30, 30,  4, 15, 15, 26, 26],\n",
       "         [30, 30, 30, 30, 30, 30, 30, 30, 15,  4, 17, 15, 26, 19, 26],\n",
       "         [30, 30, 30, 30, 30, 30, 30, 30, 15,  4, 17, 17, 19, 19, 26],\n",
       "         [30, 30, 30, 30, 15, 17, 17, 26, 19, 17,  1,  9,  4, 13,  2],\n",
       "         [30, 30, 30, 30, 30, 30, 30, 15,  4, 17, 17, 28, 19, 19, 26]]),\n",
       " tensor([[30, 30, 30, 30, 30, 30, 30, 15, 15,  4, 17, 19, 26, 26,  0],\n",
       "         [30, 30, 30, 30, 30, 30, 30, 15,  4, 15, 19, 17, 26, 26,  0],\n",
       "         [30, 30, 30, 30, 30, 30, 30, 15, 15, 26,  4, 15, 26, 26,  0],\n",
       "         [30, 30, 30, 30, 30, 30, 30, 30, 30,  4, 15, 15, 26, 26,  0],\n",
       "         [30, 30, 30, 30, 30, 30, 30, 15, 15, 26,  4, 15, 26, 26,  0],\n",
       "         [30, 30, 30, 30, 30, 30, 30, 30, 30,  4, 15, 15, 26, 26,  0],\n",
       "         [30, 30, 30, 30, 30, 30, 30, 15,  4, 17, 15, 26, 19, 26,  0],\n",
       "         [30, 30, 30, 30, 30, 30, 30, 15,  4, 17, 17, 19, 19, 26,  0],\n",
       "         [30, 30, 30, 15, 17, 17, 26, 19, 17,  1,  9,  4, 13,  2,  0],\n",
       "         [30, 30, 30, 30, 30, 30, 15,  4, 17, 17, 28, 19, 19, 26,  0]]))"
      ]
     },
     "execution_count": 14,
     "metadata": {},
     "output_type": "execute_result"
    }
   ],
   "source": [
    "dataset[0:10]"
   ]
  },
  {
   "cell_type": "code",
   "execution_count": 16,
   "id": "3c1b7577-c8a7-4dde-95d4-07278277f1ce",
   "metadata": {},
   "outputs": [
    {
     "data": {
      "text/plain": [
       "('^^^^^^^^A/CCGGT', '^^^^^^^A/CCGGT$')"
      ]
     },
     "execution_count": 16,
     "metadata": {},
     "output_type": "execute_result"
    }
   ],
   "source": [
    "( dataset.decode(dataset[7][0]), dataset.decode(dataset[7][1]) )"
   ]
  },
  {
   "cell_type": "code",
   "execution_count": null,
   "id": "dcdb0934-b1f0-4c0c-85bc-90b3dcde0ef3",
   "metadata": {},
   "outputs": [],
   "source": [
    "config.vocab_size = len(dataset.vocab)"
   ]
  },
  {
   "cell_type": "code",
   "execution_count": 17,
   "id": "ece3921d-f419-45be-accc-acc0282bd2b4",
   "metadata": {},
   "outputs": [
    {
     "data": {
      "text/plain": [
       "456"
      ]
     },
     "execution_count": 17,
     "metadata": {},
     "output_type": "execute_result"
    }
   ],
   "source": [
    "len(dataset)"
   ]
  },
  {
   "cell_type": "code",
   "execution_count": null,
   "id": "710498e1-202f-4ebc-bdb0-a7b77a7bcd5d",
   "metadata": {},
   "outputs": [],
   "source": []
  }
 ],
 "metadata": {
  "kernelspec": {
   "display_name": "Python 3 (ipykernel)",
   "language": "python",
   "name": "python3"
  },
  "language_info": {
   "codemirror_mode": {
    "name": "ipython",
    "version": 3
   },
   "file_extension": ".py",
   "mimetype": "text/x-python",
   "name": "python",
   "nbconvert_exporter": "python",
   "pygments_lexer": "ipython3",
   "version": "3.9.19"
  }
 },
 "nbformat": 4,
 "nbformat_minor": 5
}
