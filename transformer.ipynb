{
 "cells": [
  {
   "cell_type": "code",
   "execution_count": 1,
   "id": "8fddec35-83d0-4322-8048-3052c0b523d2",
   "metadata": {},
   "outputs": [
    {
     "data": {
      "text/plain": [
       "<torch._C.Generator at 0x7dcc1c8ab490>"
      ]
     },
     "execution_count": 1,
     "metadata": {},
     "output_type": "execute_result"
    }
   ],
   "source": [
    "import torch\n",
    "import torch.nn as nn\n",
    "from torch.nn import functional as fn\n",
    "import math\n",
    "from tqdm import tqdm\n",
    "from importlib import reload\n",
    "\n",
    "torch.manual_seed(1337)"
   ]
  },
  {
   "cell_type": "code",
   "execution_count": 2,
   "id": "83f15fd9",
   "metadata": {},
   "outputs": [
    {
     "data": {
      "text/plain": [
       "'cuda'"
      ]
     },
     "execution_count": 2,
     "metadata": {},
     "output_type": "execute_result"
    }
   ],
   "source": [
    "device = 'cuda' if torch.cuda.is_available() else 'cpu'\n",
    "device"
   ]
  },
  {
   "cell_type": "code",
   "execution_count": 3,
   "id": "96476324-cbfc-4923-9649-2bb812ede07d",
   "metadata": {},
   "outputs": [],
   "source": [
    "class Config():\n",
    "    def __init__(self, context_size, batch_size):\n",
    "        self.n_blocks = 2\n",
    "        self.n_heads = 4\n",
    "        self.embed_size = 24\n",
    "        self.context_size = context_size\n",
    "        self.batch_size = batch_size\n",
    "        self.weight_tying = True\n"
   ]
  },
  {
   "cell_type": "code",
   "execution_count": 4,
   "id": "bc309ff8-e957-4a04-b038-68aa48e2d75c",
   "metadata": {},
   "outputs": [],
   "source": [
    "config = Config(\n",
    "    context_size = 16,\n",
    "    batch_size = 128\n",
    ")"
   ]
  },
  {
   "cell_type": "code",
   "execution_count": 5,
   "id": "181deb69-f140-4d09-92f8-796583adb60d",
   "metadata": {},
   "outputs": [
    {
     "data": {
      "text/plain": [
       "(411, 45)"
      ]
     },
     "execution_count": 5,
     "metadata": {},
     "output_type": "execute_result"
    }
   ],
   "source": [
    "import utils.preprocess as pp\n",
    "reload(pp)\n",
    "\n",
    "dataset = pp.ShortSequenceDataset('data/restriction-sites.txt',\n",
    "    context_size=config.context_size, batch_size=config.batch_size\n",
    ").to(device)\n",
    "config.vocab_size = len(dataset.vocab)\n",
    "config.init_code = dataset.init_code\n",
    "\n",
    "data_train, data_test = torch.utils.data.random_split(dataset, [0.9, 0.1])\n",
    "(len(data_train), len(data_test))"
   ]
  },
  {
   "cell_type": "code",
   "execution_count": 6,
   "id": "d28c037c-e60d-4ee3-9029-42e9e05e32d1",
   "metadata": {},
   "outputs": [
    {
     "data": {
      "text/plain": [
       "(tensor([[30, 30, 30, 30, 30, 30, 30, 19, 19,  4, 17, 19, 17, 19, 17, 17],\n",
       "         [30, 30, 30, 30, 30, 30, 17, 26, 17, 15, 19,  1, 14,  4, 12,  2],\n",
       "         [30, 30, 30, 30, 30, 30, 30, 30, 30, 19, 26, 23,  4, 23, 15, 17],\n",
       "         [30, 30, 30, 30, 30, 30, 30, 30, 30, 19, 19, 19, 17, 17,  4, 17],\n",
       "         [30, 30, 30, 30, 30, 30, 30, 30, 30, 30, 30, 17,  4, 17, 19, 19],\n",
       "         [30, 30, 30, 30, 30, 30, 30, 30, 30, 19,  4, 19, 17, 19, 17, 17],\n",
       "         [30, 30, 30, 30, 30, 30, 17, 17, 26, 26, 17,  1, 11,  4, 10,  2],\n",
       "         [30, 30, 30, 30, 30, 30, 30, 30, 30, 17,  4, 29, 17, 19, 24, 19],\n",
       "         [30, 30, 30, 30, 30, 30, 30, 30, 30, 26,  4, 19, 15, 26, 17, 15],\n",
       "         [30, 30, 30, 17, 17, 17, 15, 19, 17,  1,  3, 10,  4,  3,  6,  2]],\n",
       "        device='cuda:0'),\n",
       " tensor([[30, 30, 30, 30, 30, 30, 19, 19,  4, 17, 19, 17, 19, 17, 17,  0],\n",
       "         [30, 30, 30, 30, 30, 17, 26, 17, 15, 19,  1, 14,  4, 12,  2,  0],\n",
       "         [30, 30, 30, 30, 30, 30, 30, 30, 19, 26, 23,  4, 23, 15, 17,  0],\n",
       "         [30, 30, 30, 30, 30, 30, 30, 30, 19, 19, 19, 17, 17,  4, 17,  0],\n",
       "         [30, 30, 30, 30, 30, 30, 30, 30, 30, 30, 17,  4, 17, 19, 19,  0],\n",
       "         [30, 30, 30, 30, 30, 30, 30, 30, 19,  4, 19, 17, 19, 17, 17,  0],\n",
       "         [30, 30, 30, 30, 30, 17, 17, 26, 26, 17,  1, 11,  4, 10,  2,  0],\n",
       "         [30, 30, 30, 30, 30, 30, 30, 30, 17,  4, 29, 17, 19, 24, 19,  0],\n",
       "         [30, 30, 30, 30, 30, 30, 30, 30, 26,  4, 19, 15, 26, 17, 15,  0],\n",
       "         [30, 30, 17, 17, 17, 15, 19, 17,  1,  3, 10,  4,  3,  6,  2,  0]],\n",
       "        device='cuda:0'))"
      ]
     },
     "execution_count": 6,
     "metadata": {},
     "output_type": "execute_result"
    }
   ],
   "source": [
    "data_train[0:10]"
   ]
  },
  {
   "cell_type": "code",
   "execution_count": 7,
   "id": "3c1b7577-c8a7-4dde-95d4-07278277f1ce",
   "metadata": {},
   "outputs": [
    {
     "data": {
      "text/plain": [
       "('^^^^^^^^^A/CCGGT', '^^^^^^^^A/CCGGT$')"
      ]
     },
     "execution_count": 7,
     "metadata": {},
     "output_type": "execute_result"
    }
   ],
   "source": [
    "( dataset.decode(dataset[7][0]), dataset.decode(dataset[7][1]) )"
   ]
  },
  {
   "cell_type": "code",
   "execution_count": 8,
   "id": "b5469e00",
   "metadata": {},
   "outputs": [],
   "source": [
    "class AttentionHead(nn.Module):\n",
    "\n",
    "    def __init__(self, config):\n",
    "        super().__init__()\n",
    "        self.config = config\n",
    "        embed_size = config.embed_size\n",
    "        context_size = config.context_size\n",
    "        # key, query, value projecions for all attention heads\n",
    "        self.kqv = nn.Linear(embed_size, 3*embed_size, bias=False)\n",
    "        # output projection\n",
    "        self.output = nn.Linear(embed_size, embed_size, bias=False)\n",
    "        # mask out upper diagonal\n",
    "        self.register_buffer(\"mask\", torch.tril(torch.ones(context_size, context_size))\n",
    "            .view(1, 1, context_size, context_size))\n",
    "\n",
    "    def forward(self, X):\n",
    "        # batch size, sequence length, and embedding dimensionality\n",
    "        B, T, D = X.shape\n",
    "\n",
    "        embed_size = self.config.embed_size\n",
    "        n_heads = self.config.n_heads\n",
    "\n",
    "        # (B, D, 3*D)  -> (B, D, D)\n",
    "        # multiple each weight matrix with data and split\n",
    "        query, key, value = self.kqv(X).split(embed_size, dim=2)\n",
    "        # (B, D, D) -> (B, H, T, D/H)\n",
    "        key = key.view(B, T, n_heads, D // n_heads).transpose(1, 2)  \n",
    "        query = query.view(B, T, n_heads, D // n_heads).transpose(1, 2)  \n",
    "        value = value.view(B, T, n_heads, D // n_heads).transpose(1, 2)  \n",
    "\n",
    "        # (B, H, T, D/H) @ (B, H, D/H, T) -> (B, H, T, T)\n",
    "        att = (query @ key.transpose(-2, -1)) / math.sqrt(key.size(-1))\n",
    "        att = att.masked_fill(self.mask[:, :, :T, :T] == 0, float('-inf'))\n",
    "        att = fn.softmax(att, dim=-1)\n",
    "\n",
    "        # (B, H, T, T) @ (B, H, T, D/H) -> (B, H, T, D/H)\n",
    "        Y = att @ value\n",
    "\n",
    "        # re-assemble outputs from all heads\n",
    "        Y = Y.transpose(1, 2).contiguous().view(B, T, D)\n",
    "\n",
    "        # linear map of all heads together\n",
    "        Y = self.output(Y)\n",
    "        return Y\n",
    "\n",
    "class Feedforward(nn.Module):\n",
    "\n",
    "    def __init__(self, config):\n",
    "        super().__init__()\n",
    "        self.config = config\n",
    "        embed_size = config.embed_size\n",
    "        self.hidden1 = nn.Linear(embed_size, 4*embed_size)\n",
    "        self.gelu = nn.GELU()\n",
    "        self.hidden2 = nn.Linear(4*embed_size, embed_size)\n",
    "    \n",
    "    def forward(self, X):\n",
    "        X = self.hidden1(X)\n",
    "        X = self.gelu(X)\n",
    "        X = self.hidden2(X)\n",
    "        return X\n",
    "\n",
    "class Block(nn.Module):\n",
    "\n",
    "    def __init__(self, config):\n",
    "        super().__init__()\n",
    "        self.attend = AttentionHead(config)\n",
    "        self.feed = Feedforward(config)\n",
    "\n",
    "    def forward(self, X):\n",
    "        X = X + self.attend(X)\n",
    "        X = X + self.feed(X)\n",
    "        return X"
   ]
  },
  {
   "cell_type": "code",
   "execution_count": 9,
   "id": "7e3913bc-c6b1-4e5c-8d0f-51284a276dab",
   "metadata": {},
   "outputs": [],
   "source": [
    "class GPT(nn.Module):\n",
    "    \n",
    "    def __init__(self, config):\n",
    "        super().__init__()\n",
    "        self.config = config\n",
    "        self.token_embed = nn.Embedding(config.vocab_size, config.embed_size)\n",
    "        self.pos_embed = nn.Embedding(config.context_size, config.embed_size)\n",
    "        self.blocks = nn.ModuleList([Block(config) for _ in range(config.n_blocks)])\n",
    "        if not config.weight_tying:\n",
    "            self.unembed = nn.Linear(config.embed_size, config.vocab_size, bias=False)\n",
    "\n",
    "    def forward(self, X, Y=None):\n",
    "        # X is (B, T), Y is (B, T)\n",
    "        pos = torch.arange(0, X.shape[1], dtype=torch.long).to(device)\n",
    "        \n",
    "        token_embeds = self.token_embed(X)  # (B, T, D)\n",
    "        pos_embeds = self.pos_embed(pos)    # (B, T, D)\n",
    "        embeds = token_embeds + pos_embeds\n",
    "\n",
    "        for block in self.blocks:\n",
    "            embeds = block(embeds)\n",
    "\n",
    "        if config.weight_tying:\n",
    "            # tie the unembedding weights to the embedding weights\n",
    "            # linear function transposes the weight\n",
    "            logits = fn.linear(embeds, self.token_embed.weight) # (B, T, C)\n",
    "        else:\n",
    "            logits = self.unembed(embeds)  # (B, T, C)\n",
    "\n",
    "        if Y is None:\n",
    "            loss = None\n",
    "        else:\n",
    "            B, T, C = logits.shape\n",
    "            logits = logits.view(B*T, C)\n",
    "            Y = Y.view(B*T)\n",
    "            loss = fn.cross_entropy(logits, Y)\n",
    "        \n",
    "        return logits, loss\n",
    "\n",
    "    @torch.no_grad()\n",
    "    def sample(self, n, X=None, temperature=1.0):\n",
    "        \"\"\"\n",
    "        Generate n new token codes given context X.\n",
    "        \"\"\"\n",
    "        if X is None:\n",
    "            X = torch.tensor([[config.init_code]]).to(device)\n",
    "        for _ in range(n):\n",
    "            if X.size(1) > self.config.context_size:\n",
    "                # sequence context is too long; crop it to context_size\n",
    "                X_cropped = X[:, -self.config.context_size:]\n",
    "            else:\n",
    "                X_cropped = X\n",
    "            # get prediction\n",
    "            logits, _ = self(X_cropped)\n",
    "            # get last time step and scale by temperature\n",
    "            logits = logits[:, -1, :] / temperature\n",
    "            probs = fn.softmax(logits, dim=1)  # (B, C)\n",
    "            x_new = torch.multinomial(probs, num_samples=1)\n",
    "            X = torch.cat((X, x_new), dim=1)   # (B, T+1)\n",
    "        return X[0, ]"
   ]
  },
  {
   "cell_type": "code",
   "execution_count": 10,
   "id": "710498e1-202f-4ebc-bdb0-a7b77a7bcd5d",
   "metadata": {},
   "outputs": [],
   "source": [
    "model = GPT(config).to(device)"
   ]
  },
  {
   "cell_type": "code",
   "execution_count": 11,
   "id": "af0b0677-1c22-4e76-9031-b05949807a00",
   "metadata": {},
   "outputs": [
    {
     "name": "stdout",
     "output_type": "stream",
     "text": [
      "tensor(13.9947, device='cuda:0', grad_fn=<NllLossBackward0>)\n"
     ]
    },
    {
     "data": {
      "text/plain": [
       "'^BBBBBBBB'"
      ]
     },
     "execution_count": 11,
     "metadata": {},
     "output_type": "execute_result"
    }
   ],
   "source": [
    "batch = data_train[0:3]\n",
    "logits, loss = model(batch[0], batch[1])\n",
    "print(loss)\n",
    "dataset.decode( model.sample(8) )"
   ]
  },
  {
   "cell_type": "code",
   "execution_count": 12,
   "id": "cbdb7412-4a55-4d4c-af32-a9126a63f02c",
   "metadata": {},
   "outputs": [],
   "source": [
    "optim = torch.optim.AdamW(model.parameters(), lr=1e-4)"
   ]
  },
  {
   "cell_type": "code",
   "execution_count": 13,
   "id": "498c75ee-be50-4217-983c-2be18d3923a4",
   "metadata": {},
   "outputs": [
    {
     "name": "stderr",
     "output_type": "stream",
     "text": [
      "100%|██████████| 5000/5000 [00:45<00:00, 110.08it/s]"
     ]
    },
    {
     "name": "stdout",
     "output_type": "stream",
     "text": [
      "loss: (train: 0.3522704243659973, test: 0.5076951384544373)\n"
     ]
    },
    {
     "name": "stderr",
     "output_type": "stream",
     "text": [
      "\n"
     ]
    }
   ],
   "source": [
    "losses_train = []\n",
    "losses_test = []\n",
    "n_epochs = 5000\n",
    "\n",
    "for epoch in tqdm(range(n_epochs)):\n",
    "    # iterate through training data\n",
    "    model.train()\n",
    "    for step in range(len(data_train) // config.batch_size):\n",
    "        idx = [i for i in \n",
    "            torch.randint(len(data_train), (config.batch_size,))]\n",
    "        X, Y = data_train[idx]\n",
    "        # evaluate loss\n",
    "        logits, loss = model(X, Y)\n",
    "        # backpropagation of errors\n",
    "        loss.backward()\n",
    "        # update weights\n",
    "        optim.step()\n",
    "        # clear gradient\n",
    "        optim.zero_grad(set_to_none=True)\n",
    "        losses_train.append(loss.item())\n",
    "    # evaluate test loss\n",
    "    model.eval()\n",
    "    X, Y = data_test[:]\n",
    "    logits, loss_test = model(X, Y)\n",
    "    losses_test.append(loss_test.item())\n",
    "\n",
    "print(f\"loss: (train: {losses_train[-1]}, test: {losses_test[-1]})\")"
   ]
  },
  {
   "cell_type": "code",
   "execution_count": 14,
   "id": "787a7ca1-0106-4ab5-ada4-c6d8f94cef19",
   "metadata": {},
   "outputs": [
    {
     "data": {
      "text/plain": [
       "'^^^^^^^^^^CGTCTC$'"
      ]
     },
     "execution_count": 14,
     "metadata": {},
     "output_type": "execute_result"
    }
   ],
   "source": [
    "dataset.decode( model.sample(16) )"
   ]
  },
  {
   "cell_type": "code",
   "execution_count": 15,
   "id": "e6ac2486",
   "metadata": {},
   "outputs": [
    {
     "data": {
      "image/png": "[encoded data removed]"
     },
     "metadata": {
      "image/png": {
       "height": 480,
       "width": 640
      }
     },
     "output_type": "display_data"
    }
   ],
   "source": [
    "from plotnine import ggplot, geom_line, aes, theme_classic, scale_color_discrete\n",
    "import pandas as pd\n",
    "\n",
    "epochs = [i for i in range(1, len(losses_test)+1)]\n",
    "epochs_train = [i * len(losses_test) / len(losses_train) for i in range(1, len(losses_train)+1)]\n",
    "\n",
    "losses_pd = pd.concat([\n",
    "    pd.DataFrame({\n",
    "        'epoch': epochs_train,\n",
    "        'loss': losses_train,\n",
    "        'type': 'train'\n",
    "    }),\n",
    "    pd.DataFrame({\n",
    "        'epoch': epochs,\n",
    "        'loss': losses_test,\n",
    "        'type': 'test'\n",
    "    }),\n",
    "])\n",
    "\n",
    "(ggplot(losses_pd, aes(x='epoch', y='loss', colour='type')) + \n",
    "    geom_line(alpha=0.7) +\n",
    "    theme_classic())"
   ]
  },
  {
   "cell_type": "code",
   "execution_count": null,
   "id": "2686fe83",
   "metadata": {},
   "outputs": [],
   "source": []
  }
 ],
 "metadata": {
  "kernelspec": {
   "display_name": "Python 3 (ipykernel)",
   "language": "python",
   "name": "python3"
  },
  "language_info": {
   "codemirror_mode": {
    "name": "ipython",
    "version": 3
   },
   "file_extension": ".py",
   "mimetype": "text/x-python",
   "name": "python",
   "nbconvert_exporter": "python",
   "pygments_lexer": "ipython3",
   "version": "3.9.19"
  }
 },
 "nbformat": 4,
 "nbformat_minor": 5
}
