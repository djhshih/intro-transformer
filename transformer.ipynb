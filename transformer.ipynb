{
 "cells": [
  {
   "cell_type": "code",
   "execution_count": 49,
   "id": "8fddec35-83d0-4322-8048-3052c0b523d2",
   "metadata": {},
   "outputs": [],
   "source": [
    "import torch\n",
    "import torch.nn as nn\n",
    "from torch.nn import functional as fn"
   ]
  },
  {
   "cell_type": "code",
   "execution_count": 50,
   "id": "96476324-cbfc-4923-9649-2bb812ede07d",
   "metadata": {},
   "outputs": [],
   "source": [
    "class Config():\n",
    "    def __init__(self, vocab_size, context_size):\n",
    "        self.n_layer = 1\n",
    "        self.n_head = 4\n",
    "        self.embed_size = 8\n",
    "        self.vocab_size = vocab_size\n",
    "        self.context_size = context_size\n",
    "\n",
    "class GPT(nn.Module):\n",
    "    \n",
    "    def __init__(self, config):\n",
    "        super().__init__()\n",
    "        self.config = config\n",
    "        "
   ]
  },
  {
   "cell_type": "code",
   "execution_count": 43,
   "id": "5e79119a-826c-461a-b3e4-76243559d20d",
   "metadata": {},
   "outputs": [],
   "source": [
    "with open('data/restriction-sites.txt') as inf:\n",
    "    sites = []\n",
    "    max_len = 16\n",
    "    for line in inf:\n",
    "        # add termination symbol\n",
    "        site = line.rstrip() + '$'\n",
    "        # replace none with '_'\n",
    "        site = site.replace('none', '_')\n",
    "        # use only small enough restriction sites\n",
    "        if len(site) <= max_len:\n",
    "            sites.append(site)"
   ]
  },
  {
   "cell_type": "code",
   "execution_count": 46,
   "id": "181deb69-f140-4d09-92f8-796583adb60d",
   "metadata": {},
   "outputs": [
    {
     "data": {
      "text/plain": [
       "(456, 31)"
      ]
     },
     "execution_count": 46,
     "metadata": {},
     "output_type": "execute_result"
    }
   ],
   "source": [
    "vocab = set()\n",
    "for site in sites:\n",
    "    for x in site:\n",
    "        vocab.add(x)\n",
    "\n",
    "(len(sites), len(vocab))"
   ]
  },
  {
   "cell_type": "code",
   "execution_count": 51,
   "id": "bc309ff8-e957-4a04-b038-68aa48e2d75c",
   "metadata": {},
   "outputs": [],
   "source": [
    "config = Config(vocab_size=len(vocab), context_size = max_len)"
   ]
  },
  {
   "cell_type": "code",
   "execution_count": null,
   "id": "d1494ed0-4e5c-4a4b-bf52-6b081bacd0b0",
   "metadata": {},
   "outputs": [],
   "source": []
  }
 ],
 "metadata": {
  "kernelspec": {
   "display_name": "Python 3 (ipykernel)",
   "language": "python",
   "name": "python3"
  },
  "language_info": {
   "codemirror_mode": {
    "name": "ipython",
    "version": 3
   },
   "file_extension": ".py",
   "mimetype": "text/x-python",
   "name": "python",
   "nbconvert_exporter": "python",
   "pygments_lexer": "ipython3",
   "version": "3.9.19"
  }
 },
 "nbformat": 4,
 "nbformat_minor": 5
}
